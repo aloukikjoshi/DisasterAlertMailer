{
 "cells": [
  {
   "cell_type": "code",
   "id": "initial_id",
   "metadata": {
    "collapsed": true,
    "jupyter": {
     "is_executing": true
    },
    "ExecuteTime": {
     "start_time": "2024-09-26T10:42:10.829026Z"
    }
   },
   "source": [
    "import base64\n",
    "import os\n",
    "from dotenv import load_dotenv\n",
    "import smtplib\n",
    "from email.mime.multipart import MIMEMultipart\n",
    "from email.mime.text import MIMEText\n",
    "import requests\n",
    "import schedule\n",
    "import time\n",
    "import google.auth\n",
    "from google.auth.transport.requests import Request\n",
    "from google.oauth2.credentials import Credentials\n",
    "from google_auth_oauthlib.flow import InstalledAppFlow\n",
    "from googleapiclient.discovery import build\n",
    "\n",
    "load_dotenv()\n",
    "\n",
    "# Define the SCOPES variable\n",
    "SCOPES = ['https://www.googleapis.com/auth/gmail.send']\n",
    "\n",
    "\n",
    "# Function to send email using OAuth2\n",
    "def send_email(to_email, subject, body):\n",
    "    from_email = os.getenv(\"FROM_EMAIL\")\n",
    "    creds = None\n",
    "    if os.path.exists('token.json'):\n",
    "        creds = Credentials.from_authorized_user_file('token.json', SCOPES)\n",
    "    if not creds or not creds.valid:\n",
    "        if creds and creds.expired and creds.refresh_token:\n",
    "            creds.refresh(Request())\n",
    "        else:\n",
    "            flow = InstalledAppFlow.from_client_secrets_file(\n",
    "                'credentials.json', SCOPES)\n",
    "            creds = flow.run_local_server(port=0)\n",
    "        with open('token.json', 'w') as token:\n",
    "            token.write(creds.to_json())\n",
    "\n",
    "    service = build('gmail', 'v1', credentials=creds)\n",
    "    message = MIMEMultipart()\n",
    "    message['From'] = from_email\n",
    "    message['To'] = to_email\n",
    "    message['Subject'] = subject\n",
    "    message.attach(MIMEText(body, 'plain'))\n",
    "    raw_message = base64.urlsafe_b64encode(message.as_bytes()).decode()\n",
    "    message = {'raw': raw_message}\n",
    "    service.users().messages().send(userId='me', body=message).execute()\n",
    "\n",
    "\n",
    "# Function to get weather alerts\n",
    "def get_weather_alerts(api_key, location):\n",
    "    url = f\"https://api.openweathermap.org/data/2.5/weather?q={location}&appid={api_key}\"\n",
    "    response = requests.get(url)\n",
    "    data = response.json()\n",
    "    if 'alerts' in data:\n",
    "        return data['alerts']\n",
    "    else:\n",
    "        return []\n",
    "\n",
    "\n",
    "# Function to check for disasters and send email\n",
    "def check_for_disasters():\n",
    "    location = \"Helsinki\"\n",
    "    alerts = get_weather_alerts(api_key, location)\n",
    "    if alerts:\n",
    "        for alert in alerts:\n",
    "            send_email(\"themarvelvaultofficial@gmail.com\", \"Emergency Alert\", alert['description'])\n",
    "\n",
    "\n",
    "# Schedule the task to run every hour\n",
    "schedule.every().hour.do(check_for_disasters)\n",
    "\n",
    "# API key for OpenWeatherMap\n",
    "api_key = os.getenv(\"OPENWEATHERMAP_API_KEY\")\n",
    "\n",
    "# Run the scheduler\n",
    "while True:\n",
    "    schedule.run_pending()\n",
    "    time.sleep(1)"
   ],
   "outputs": [],
   "execution_count": null
  },
  {
   "metadata": {},
   "cell_type": "code",
   "outputs": [],
   "execution_count": null,
   "source": "",
   "id": "a8a68b9c3716951c"
  }
 ],
 "metadata": {
  "kernelspec": {
   "display_name": "Python 3",
   "language": "python",
   "name": "python3"
  },
  "language_info": {
   "codemirror_mode": {
    "name": "ipython",
    "version": 2
   },
   "file_extension": ".py",
   "mimetype": "text/x-python",
   "name": "python",
   "nbconvert_exporter": "python",
   "pygments_lexer": "ipython2",
   "version": "2.7.6"
  }
 },
 "nbformat": 4,
 "nbformat_minor": 5
}
