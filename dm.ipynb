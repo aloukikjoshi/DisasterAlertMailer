{
 "cells": [
  {
   "cell_type": "code",
   "id": "initial_id",
   "metadata": {
    "collapsed": true,
    "ExecuteTime": {
     "end_time": "2024-06-21T14:46:08.200177Z",
     "start_time": "2024-06-21T14:42:23.112862Z"
    }
   },
   "source": [
    "import smtplib\n",
    "from email.mime.multipart import MIMEMultipart\n",
    "from email.mime.text import MIMEText\n",
    "import requests\n",
    "import schedule\n",
    "import time\n",
    "\n",
    "# Function to send email\n",
    "def send_email(to_email, subject, body):\n",
    "    from_email = \"aloukikjoshi@gmail.com\"\n",
    "    password = \"Aloukik@1224\"\n",
    "\n",
    "    server = smtplib.SMTP('smtp.gmail.com', 587)\n",
    "    server.starttls()\n",
    "    server.login(from_email, password)\n",
    "\n",
    "    msg = MIMEMultipart()\n",
    "    msg['From'] = from_email\n",
    "    msg['To'] = to_email\n",
    "    msg['Subject'] = subject\n",
    "    msg.attach(MIMEText(body, 'plain'))\n",
    "\n",
    "    server.send_message(msg)\n",
    "    server.quit()\n",
    "\n",
    "# Function to get weather alerts\n",
    "def get_weather_alerts(api_key, location):\n",
    "    url = f\"http://api.openweathermap.org/data/2.5/weather?q={location}&appid={api_key}\"\n",
    "    response = requests.get(url)\n",
    "    data = response.json()\n",
    "    \n",
    "    if 'alerts' in data:\n",
    "        return data['alerts']\n",
    "    else:\n",
    "        return []\n",
    "\n",
    "# Function to check for disasters and send email\n",
    "def check_for_disasters():\n",
    "    location = \"Helsinki\"\n",
    "    alerts = get_weather_alerts(api_key, location)\n",
    "    if alerts:\n",
    "        for alert in alerts:\n",
    "            send_email(\"themarvelvaultofficial@gmail.com\", \"Emergency Alert\", alert['description'])\n",
    "\n",
    "# Schedule the task to run every hour\n",
    "schedule.every().hour.do(check_for_disasters)\n",
    "\n",
    "# API key for OpenWeatherMap\n",
    "api_key = \"your_openweathermap_api_key\"\n",
    "\n",
    "# Run the scheduler\n",
    "while True:\n",
    "    schedule.run_pending()\n",
    "    time.sleep(1)\n"
   ],
   "outputs": [
    {
     "name": "stdout",
     "output_type": "stream",
     "text": [
      "Requirement already satisfied: schedule in c:\\users\\aloukik\\anaconda3\\lib\\site-packages (1.2.2)\n"
     ]
    },
    {
     "ename": "KeyboardInterrupt",
     "evalue": "",
     "output_type": "error",
     "traceback": [
      "\u001B[1;31m---------------------------------------------------------------------------\u001B[0m",
      "\u001B[1;31mKeyboardInterrupt\u001B[0m                         Traceback (most recent call last)",
      "Cell \u001B[1;32mIn[4], line 55\u001B[0m\n\u001B[0;32m     53\u001B[0m \u001B[38;5;28;01mwhile\u001B[39;00m \u001B[38;5;28;01mTrue\u001B[39;00m:\n\u001B[0;32m     54\u001B[0m     schedule\u001B[38;5;241m.\u001B[39mrun_pending()\n\u001B[1;32m---> 55\u001B[0m     time\u001B[38;5;241m.\u001B[39msleep(\u001B[38;5;241m1\u001B[39m)\n",
      "\u001B[1;31mKeyboardInterrupt\u001B[0m: "
     ]
    }
   ],
   "execution_count": 4
  }
 ],
 "metadata": {
  "kernelspec": {
   "display_name": "Python 3",
   "language": "python",
   "name": "python3"
  },
  "language_info": {
   "codemirror_mode": {
    "name": "ipython",
    "version": 2
   },
   "file_extension": ".py",
   "mimetype": "text/x-python",
   "name": "python",
   "nbconvert_exporter": "python",
   "pygments_lexer": "ipython2",
   "version": "2.7.6"
  }
 },
 "nbformat": 4,
 "nbformat_minor": 5
}
